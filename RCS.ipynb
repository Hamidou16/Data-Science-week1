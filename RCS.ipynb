{
 "cells": [
  {
   "cell_type": "markdown",
   "metadata": {},
   "source": [
    "# Revision control software"
   ]
  },
  {
   "cell_type": "markdown",
   "metadata": {},
   "source": [
    "## There are two main purposes of RCS systems:\n",
    "\n",
    "1. Keep track of changes in the source code.\n",
    "    - Allow reverting back to an older revision if something goes wrong.\n",
    "    - Work on several \"branches\" of the software concurrently.\n",
    "    - Tags revisions to keep track of which version of the software that was used for what (for example, \"release-1.0\", \"paper-A-final\", ...)\n",
    "2. Make it possible for serveral people to collaboratively work on the same code base simultaneously.\n",
    "    - Allow many authors to make changes to the code.\n",
    "    - Clearly communicating and visualizing changes in the code base to everyone involved.\n",
    "\n"
   ]
  },
  {
   "cell_type": "markdown",
   "metadata": {},
   "source": [
    "## Basic principles and terminology for RCS systems\n",
    "\n",
    "In an RCS, the source code or digital content is stored in a **repository**.\n",
    "\n",
    "- The repository does not only contain the latest version of all files, but the complete history of all changes to the files since they were added to the repository.\n",
    "\n",
    "- A user can **checkout** the repository, and obtain a local working copy of the files. All changes are made to the files in the local working directory, where files can be added, removed and updated.\n",
    "\n",
    "- When a task has been completed, the changes to the local files are **commited** (saved to the repository).\n",
    "\n",
    "- If someone else has been making changes to the same files, a **conflict** can occur. In many cases conflicts can be **resolved** automatically by the system, but in some cases we might manually have to **merge** different changes together.\n",
    "\n",
    "- It is often useful to create a new **branch** in a repository, or a **fork** or **clone** of an entire repository, when we doing larger experimental development. The main branch in a repository is called often **master** or **trunk**. When work on a branch or fork is completed, it can be merged in to the master branch/repository.\n",
    "\n",
    "- With distributed RCSs such as GIT or Mercurial, we can **pull** and **push** changesets between different repositories. For example, between a local copy of there repository to a central online reposistory (for example on a community repository host site like github.com)."
   ]
  },
  {
   "cell_type": "markdown",
   "metadata": {},
   "source": [
    "## Installing git\n",
    "\n",
    "On Linux:\n",
    "\n",
    "sudo apt-get install git\n",
    "\n",
    "=======================\n",
    " \n",
    "On Mac (with macports):\n",
    "\n",
    "sudo port install git\n",
    "\n",
    "=======================\n",
    "\n",
    "On Windows:\n",
    "\n",
    "https://git-scm.com/download/win\n",
    "\n",
    "\n",
    "The first time you start to use git, you'll need to configure your author information:\n",
    "\n",
    "`git config --global user.name 'Taro Taro'`\n",
    "\n",
    "` git config --global user.email taro@riken.jp`"
   ]
  },
  {
   "cell_type": "markdown",
   "metadata": {},
   "source": [
    "## Creating and cloning a repository\n",
    "\n",
    "To create a brand new empty repository, we can use the command `git init repository-name`:\n"
   ]
  },
  {
   "cell_type": "code",
   "execution_count": 1,
   "metadata": {},
   "outputs": [
    {
     "name": "stdout",
     "output_type": "stream",
     "text": [
      "Reinitialized existing Git repository in /home/hamidou/Downloads/DSW1/gitdemo/.git/\r\n"
     ]
    }
   ],
   "source": [
    "# create a new git repository called gitdemo:\n",
    "!git init gitdemo"
   ]
  },
  {
   "cell_type": "markdown",
   "metadata": {},
   "source": [
    "If we want to clone an existing repository, we use the command `git clone repository`:"
   ]
  },
  {
   "cell_type": "markdown",
   "metadata": {},
   "source": [
    "### Status\n",
    "Using the command `git status`, we get a summary of the current status of the working directory."
   ]
  },
  {
   "cell_type": "code",
   "execution_count": 1,
   "metadata": {},
   "outputs": [
    {
     "name": "stdout",
     "output_type": "stream",
     "text": [
      "On branch master\r\n",
      "Changes to be committed:\r\n",
      "  (use \"git reset HEAD <file>...\" to unstage)\r\n",
      "\r\n",
      "\t\u001b[32mmodified:   RCS.ipynb\u001b[m\r\n",
      "\r\n",
      "Changes not staged for commit:\r\n",
      "  (use \"git add <file>...\" to update what will be committed)\r\n",
      "  (use \"git checkout -- <file>...\" to discard changes in working directory)\r\n",
      "\r\n",
      "\t\u001b[31mmodified:   RCS.ipynb\u001b[m\r\n",
      "\r\n"
     ]
    }
   ],
   "source": [
    "!git status"
   ]
  },
  {
   "cell_type": "code",
   "execution_count": 2,
   "metadata": {},
   "outputs": [
    {
     "name": "stdout",
     "output_type": "stream",
     "text": [
      "[master 0de3a19] some minor changes!\r\n",
      " 1 file changed, 71 insertions(+), 13 deletions(-)\r\n"
     ]
    }
   ],
   "source": [
    "!git commit -m \"some minor changes!\" RCS.ipynb"
   ]
  },
  {
   "cell_type": "code",
   "execution_count": 3,
   "metadata": {},
   "outputs": [
    {
     "name": "stdout",
     "output_type": "stream",
     "text": [
      "On branch master\r\n",
      "nothing to commit, working tree clean\r\n"
     ]
    }
   ],
   "source": [
    "!git status"
   ]
  },
  {
   "cell_type": "code",
   "execution_count": 4,
   "metadata": {},
   "outputs": [
    {
     "name": "stdout",
     "output_type": "stream",
     "text": [
      "Overwriting README.md\n"
     ]
    }
   ],
   "source": [
    "%%file README.md\n",
    "A file with information about this gitdemo repository."
   ]
  },
  {
   "cell_type": "code",
   "execution_count": 6,
   "metadata": {},
   "outputs": [
    {
     "name": "stdout",
     "output_type": "stream",
     "text": [
      "On branch master\r\n",
      "Changes not staged for commit:\r\n",
      "  (use \"git add <file>...\" to update what will be committed)\r\n",
      "  (use \"git checkout -- <file>...\" to discard changes in working directory)\r\n",
      "\r\n",
      "\t\u001b[31mmodified:   RCS.ipynb\u001b[m\r\n",
      "\t\u001b[31mmodified:   README.md\u001b[m\r\n",
      "\r\n",
      "no changes added to commit (use \"git add\" and/or \"git commit -a\")\r\n"
     ]
    }
   ],
   "source": [
    "!git status"
   ]
  },
  {
   "cell_type": "code",
   "execution_count": 7,
   "metadata": {},
   "outputs": [],
   "source": [
    "!git add -A "
   ]
  },
  {
   "cell_type": "code",
   "execution_count": 8,
   "metadata": {},
   "outputs": [
    {
     "name": "stdout",
     "output_type": "stream",
     "text": [
      "On branch master\r\n",
      "Changes to be committed:\r\n",
      "  (use \"git reset HEAD <file>...\" to unstage)\r\n",
      "\r\n",
      "\t\u001b[32mmodified:   RCS.ipynb\u001b[m\r\n",
      "\t\u001b[32mmodified:   README.md\u001b[m\r\n",
      "\r\n"
     ]
    }
   ],
   "source": [
    "!git status"
   ]
  },
  {
   "cell_type": "code",
   "execution_count": 9,
   "metadata": {},
   "outputs": [
    {
     "name": "stdout",
     "output_type": "stream",
     "text": [
      "[master ead9cae] added some changes!\r\n",
      " 2 files changed, 18 insertions(+), 100 deletions(-)\r\n"
     ]
    }
   ],
   "source": [
    "!git commit -m \"added some changes!\""
   ]
  },
  {
   "cell_type": "code",
   "execution_count": 10,
   "metadata": {},
   "outputs": [
    {
     "name": "stdout",
     "output_type": "stream",
     "text": [
      "On branch master\r\n",
      "nothing to commit, working tree clean\r\n"
     ]
    }
   ],
   "source": [
    "!git status"
   ]
  },
  {
   "cell_type": "markdown",
   "metadata": {},
   "source": [
    "### Commiting changes\n",
    "When files that is tracked by GIT are changed, they are listed as *modified* by `git status`: "
   ]
  },
  {
   "cell_type": "code",
   "execution_count": 11,
   "metadata": {},
   "outputs": [
    {
     "name": "stdout",
     "output_type": "stream",
     "text": [
      "Overwriting README.md\n"
     ]
    }
   ],
   "source": [
    "%%file README.md\n",
    "A file with information about the gitdemo repository.\n",
    "A new line."
   ]
  },
  {
   "cell_type": "code",
   "execution_count": 12,
   "metadata": {},
   "outputs": [
    {
     "name": "stdout",
     "output_type": "stream",
     "text": [
      "On branch master\r\n",
      "Changes not staged for commit:\r\n",
      "  (use \"git add <file>...\" to update what will be committed)\r\n",
      "  (use \"git checkout -- <file>...\" to discard changes in working directory)\r\n",
      "\r\n",
      "\t\u001b[31mmodified:   README.md\u001b[m\r\n",
      "\r\n",
      "no changes added to commit (use \"git add\" and/or \"git commit -a\")\r\n"
     ]
    }
   ],
   "source": [
    "!git status"
   ]
  },
  {
   "cell_type": "code",
   "execution_count": 13,
   "metadata": {},
   "outputs": [],
   "source": [
    "!git add -A"
   ]
  },
  {
   "cell_type": "code",
   "execution_count": 14,
   "metadata": {},
   "outputs": [
    {
     "name": "stdout",
     "output_type": "stream",
     "text": [
      "On branch master\r\n",
      "Changes to be committed:\r\n",
      "  (use \"git reset HEAD <file>...\" to unstage)\r\n",
      "\r\n",
      "\t\u001b[32mmodified:   README.md\u001b[m\r\n",
      "\r\n"
     ]
    }
   ],
   "source": [
    "!git status"
   ]
  },
  {
   "cell_type": "code",
   "execution_count": 15,
   "metadata": {},
   "outputs": [
    {
     "name": "stdout",
     "output_type": "stream",
     "text": [
      "[master 7af310a] some changes occured!\r\n",
      " 1 file changed, 2 insertions(+), 1 deletion(-)\r\n"
     ]
    }
   ],
   "source": [
    "!git commit -m \"some changes occured!\""
   ]
  },
  {
   "cell_type": "code",
   "execution_count": 16,
   "metadata": {},
   "outputs": [
    {
     "name": "stdout",
     "output_type": "stream",
     "text": [
      "On branch master\r\n",
      "nothing to commit, working tree clean\r\n"
     ]
    }
   ],
   "source": [
    "!git status"
   ]
  },
  {
   "cell_type": "markdown",
   "metadata": {},
   "source": [
    "## Removing files\n",
    "\n",
    "To remove file that has been added to the repository, use `git rm filename`, which works similar to git add filename:"
   ]
  },
  {
   "cell_type": "code",
   "execution_count": 17,
   "metadata": {},
   "outputs": [
    {
     "name": "stdout",
     "output_type": "stream",
     "text": [
      "Writing tmpfile\n"
     ]
    }
   ],
   "source": [
    "%%file tmpfile\n",
    "A short-lived file."
   ]
  },
  {
   "cell_type": "code",
   "execution_count": 18,
   "metadata": {},
   "outputs": [],
   "source": [
    "!git add tmpfile"
   ]
  },
  {
   "cell_type": "code",
   "execution_count": 19,
   "metadata": {},
   "outputs": [
    {
     "name": "stdout",
     "output_type": "stream",
     "text": [
      "[master 87d8870] adding file tmpfile\r\n",
      " 1 file changed, 1 insertion(+)\r\n",
      " create mode 100644 tmpfile\r\n"
     ]
    }
   ],
   "source": [
    "!git commit -m \"adding file tmpfile\""
   ]
  },
  {
   "cell_type": "markdown",
   "metadata": {},
   "source": [
    "Remove it again:"
   ]
  },
  {
   "cell_type": "code",
   "execution_count": 20,
   "metadata": {},
   "outputs": [
    {
     "name": "stdout",
     "output_type": "stream",
     "text": [
      "rm 'tmpfile'\r\n"
     ]
    }
   ],
   "source": [
    "!git rm tmpfile"
   ]
  },
  {
   "cell_type": "code",
   "execution_count": 21,
   "metadata": {},
   "outputs": [
    {
     "name": "stdout",
     "output_type": "stream",
     "text": [
      "[master aec7dab] remove file tmpfile\r\n",
      " 1 file changed, 1 deletion(-)\r\n",
      " delete mode 100644 tmpfile\r\n"
     ]
    }
   ],
   "source": [
    "!git commit -m \"remove file tmpfile\""
   ]
  },
  {
   "cell_type": "markdown",
   "metadata": {},
   "source": [
    "## Commit logs\n",
    "\n",
    "The messages that are added to the commit command are supposed to give a short (often one-line) description of the changes/additions/deletions in the commit. If the `-m \"message\"` is omitted when invoking the `git commit` message an editor will be opened for you to type a commit message (for example useful when a longer commit message is requried).\n",
    "\n",
    "We can look at the revision log by using the command `git log`:"
   ]
  },
  {
   "cell_type": "code",
   "execution_count": 22,
   "metadata": {},
   "outputs": [
    {
     "name": "stdout",
     "output_type": "stream",
     "text": [
      "\u001b[33mcommit aec7dab76c18cab69ddce9f84a606e7297a1b265\u001b[m\u001b[33m (\u001b[m\u001b[1;36mHEAD -> \u001b[m\u001b[1;32mmaster\u001b[m\u001b[33m)\u001b[m\r\n",
      "Author: Hamidou <hamidou.konate@ymail.com>\r\n",
      "Date:   Tue Apr 21 12:32:22 2020 +0900\r\n",
      "\r\n",
      "    remove file tmpfile\r\n",
      "\r\n",
      "\u001b[33mcommit 87d887046bcf659a3fc5d7a9dfa5d4398cb7990b\u001b[m\r\n",
      "Author: Hamidou <hamidou.konate@ymail.com>\r\n",
      "Date:   Tue Apr 21 12:31:17 2020 +0900\r\n",
      "\r\n",
      "    adding file tmpfile\r\n",
      "\r\n",
      "\u001b[33mcommit 7af310a6ae4a351b058a219727e7ca3f27fe1c7e\u001b[m\r\n",
      "Author: Hamidou <hamidou.konate@ymail.com>\r\n",
      "Date:   Tue Apr 21 12:22:46 2020 +0900\r\n",
      "\r\n",
      "    some changes occured!\r\n",
      "\r\n",
      "\u001b[33mcommit ead9cae45f91baf0e1e2fea948d46e234722bdb3\u001b[m\r\n",
      "Author: Hamidou <hamidou.konate@ymail.com>\r\n",
      "Date:   Tue Apr 21 12:21:29 2020 +0900\r\n",
      "\r\n",
      "    added some changes!\r\n",
      "\r\n",
      "\u001b[33mcommit 0de3a1999ef09a4d0682f96f908db6a82846e740\u001b[m\r\n",
      "Author: Hamidou <hamidou.konate@ymail.com>\r\n",
      "Date:   Tue Apr 21 12:16:19 2020 +0900\r\n",
      "\r\n",
      "    some minor changes!\r\n",
      "\r\n",
      "\u001b[33mcommit d6889904384a72cff96289dc1ec521b1b7dc5516\u001b[m\r\n",
      "Author: Hamidou <hamidou.konate@ymail.com>\r\n",
      "Date:   Mon Apr 20 23:01:53 2020 +0900\r\n",
      "\r\n",
      "    some changes occured!\r\n",
      "\r\n",
      "\u001b[33mcommit 261cb6705dacb947d786597ea1f03e8b6c34866d\u001b[m\r\n",
      "Author: Hamidou <hamidou.konate@ymail.com>\r\n",
      "Date:   Mon Apr 20 22:51:30 2020 +0900\r\n",
      "\r\n",
      "     added RCS.ipynb\r\n",
      "\r\n",
      "\u001b[33mcommit f12a5a54b7505a2b89937339d7f25764024a3ad9\u001b[m\r\n",
      "Author: Hamidou <hamidou.konate@ymail.com>\r\n",
      "Date:   Mon Apr 20 22:48:03 2020 +0900\r\n",
      "\r\n",
      "    added some changes!\r\n"
     ]
    }
   ],
   "source": [
    "!git log"
   ]
  },
  {
   "cell_type": "markdown",
   "metadata": {},
   "source": [
    "## Diffs\n",
    "\n",
    "All commits results in a changeset, which has a \"diff\" describing the changes to the file associated with it. We can use `git diff` so see what has changed in a file:"
   ]
  },
  {
   "cell_type": "code",
   "execution_count": 23,
   "metadata": {},
   "outputs": [
    {
     "name": "stdout",
     "output_type": "stream",
     "text": [
      "Overwriting README.md\n"
     ]
    }
   ],
   "source": [
    "%%file README.md\n",
    "\n",
    "A file with information about the gitdemo.\n",
    "README files usually contains installation instructions, and information about how to get started using the software (for example)."
   ]
  },
  {
   "cell_type": "code",
   "execution_count": 25,
   "metadata": {},
   "outputs": [
    {
     "name": "stdout",
     "output_type": "stream",
     "text": [
      "\u001b[1mdiff --git a/README.md b/README.md\u001b[m\r\n",
      "\u001b[1mindex 763901b..5b29942 100644\u001b[m\r\n",
      "\u001b[1m--- a/README.md\u001b[m\r\n",
      "\u001b[1m+++ b/README.md\u001b[m\r\n",
      "\u001b[36m@@ -1,2 +1,3 @@\u001b[m\r\n",
      "\u001b[31m-A file with information about the gitdemo repository.\u001b[m\r\n",
      "\u001b[31m-A new line.\u001b[m\r\n",
      "\u001b[32m+\u001b[m\r\n",
      "\u001b[32m+\u001b[m\u001b[32mA file with information about the gitdemo.\u001b[m\r\n",
      "\u001b[32m+\u001b[m\u001b[32mREADME files usually contains installation instructions, and information about how to get started using the software (for example).\u001b[m\r\n"
     ]
    }
   ],
   "source": [
    "!git diff README.md"
   ]
  },
  {
   "cell_type": "markdown",
   "metadata": {},
   "source": [
    "## Discard changes in the working directory\n",
    "\n",
    "To discard a change (revert to the latest version in the repository) we can use the `checkout command like this:"
   ]
  },
  {
   "cell_type": "code",
   "execution_count": null,
   "metadata": {},
   "outputs": [],
   "source": []
  },
  {
   "cell_type": "code",
   "execution_count": null,
   "metadata": {},
   "outputs": [],
   "source": []
  },
  {
   "cell_type": "code",
   "execution_count": null,
   "metadata": {},
   "outputs": [],
   "source": []
  },
  {
   "cell_type": "code",
   "execution_count": null,
   "metadata": {},
   "outputs": [],
   "source": []
  },
  {
   "cell_type": "code",
   "execution_count": null,
   "metadata": {},
   "outputs": [],
   "source": []
  },
  {
   "cell_type": "code",
   "execution_count": null,
   "metadata": {},
   "outputs": [],
   "source": []
  }
 ],
 "metadata": {
  "kernelspec": {
   "display_name": "Python 3.7.5 64-bit",
   "language": "python",
   "name": "python37564bitda27f154503943a4ae6ec4a58de036bc"
  },
  "language_info": {
   "codemirror_mode": {
    "name": "ipython",
    "version": 3
   },
   "file_extension": ".py",
   "mimetype": "text/x-python",
   "name": "python",
   "nbconvert_exporter": "python",
   "pygments_lexer": "ipython3",
   "version": "3.7.5"
  }
 },
 "nbformat": 4,
 "nbformat_minor": 4
}
