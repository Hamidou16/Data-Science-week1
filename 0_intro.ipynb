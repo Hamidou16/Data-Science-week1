{
 "cells": [
  {
   "cell_type": "markdown",
   "metadata": {},
   "source": [
    "# What is Python?\n",
    "**Python** is a modern, general-purpose, object-oriented, high-level language."
   ]
  },
  {
   "cell_type": "markdown",
   "metadata": {},
   "source": [
    "General characteristic of Python:\n",
    "- **clean and simple language**: Easy-to-read and intuitive code, easy-to-learn minimalistic syntax,maintainability scales well with size projects.\n",
    "- **expressive language**: Fewer lines of codes, fewer bugs, easier to maintain.\n",
    "   "
   ]
  },
  {
   "cell_type": "markdown",
   "metadata": {},
   "source": [
    "Technical details:\n",
    "- **dynamically typed**: No need to define the type of variables, function arguments or return types.\n",
    "- **automatic memory management**: No need to explicitly allocate and deallocate memory for variables and data arrays. No memory leak bugs.\n",
    "- **interpreted**: No need to compile the code. The Python interpreter reads and excutes the python code directly."
   ]
  },
  {
   "cell_type": "markdown",
   "metadata": {},
   "source": [
    "Advantages:\n",
    "- The main advantage is ease of programming, minimizing the time required to develop, debug and maintain the code.\n",
    "- Well designed language that encourage many good pratices:\n",
    "    - Modular and object-oriented programming, good system for packaging and re-use of code. This often results in more transparent, maintainable and bug-free code.\n",
    "    - Documentation tightly integrated with the code.\n",
    "- A large standard library, and a large collection of add-on packages."
   ]
  },
  {
   "cell_type": "markdown",
   "metadata": {},
   "source": [
    "Disadvantages:\n",
    "- Since Python is an interpreted and dynamically typed programming language, the execution of python code can be slow compared to compiled statistically typed programming languages, such as C and Fortran.\n",
    "- Somewhat decentralized, with diffferent environment, packages and documentation spread out at different places. Can make it harder to get started."
   ]
  },
  {
   "cell_type": "markdown",
   "metadata": {},
   "source": [
    "# What makes Python suitable for scientific computing?"
   ]
  },
  {
   "cell_type": "markdown",
   "metadata": {},
   "source": [
    "![](resources/cpu.png)"
   ]
  },
  {
   "cell_type": "markdown",
   "metadata": {},
   "source": [
    "- Python has a strong position in scientific computing:\n",
    "    - Large commnuity of users, easy to find help and documentaion.\n",
    "- Extensive ecosystem of scientific libraries and environments\n",
    "    - numpy: https://www.numpy.org - Numerical Python\n",
    "    - scipy: https://www.scipy.org - Scientific Python\n",
    "    - pandas:https://pandas.pydata.org - Data Analysis\n",
    "    - scikit-learn:https://scikit-learn.org/stable - Python Machine Learning library \n",
    "    - matplotlib: https://www.matplotlib.org  - graphics library\n",
    "    - seaborn: https://seaborn.pydata.org - based on *matplotlib*\n",
    "    - sympy: https://www.sympy.org/en/index.html - Python library for symbolic mathematics\n",
    "- Great performance due to close integration with time-tested and highly optimized codes written in C and Fortran.\n",
    "- Good support for:\n",
    "    - Parallel processing with process and threads\n",
    "    - Interprocess communication (MPI)\n",
    "    - GPU computing (OpenCL and CUDA)\n",
    "- Readily available and suitable for use on high- performance computing clusters.\n",
    "- No license costs, no unnecessary use of research budget."
   ]
  },
  {
   "cell_type": "markdown",
   "metadata": {},
   "source": [
    "## The scientific Python software stack"
   ]
  },
  {
   "cell_type": "markdown",
   "metadata": {},
   "source": [
    "![](resources/stack.jpg)"
   ]
  },
  {
   "cell_type": "markdown",
   "metadata": {},
   "source": [
    "## Python Environments"
   ]
  },
  {
   "cell_type": "markdown",
   "metadata": {},
   "source": [
    "Python is not only a programming language, but often also refers to the standard implementation of the interpreter (Technically referred to as [CPython](https://en.wikipedia.org/wiki/CPython)) that actually runs the Python code on a computer.\n",
    "\n",
    "There are also many different environments through which the python interpreter can be used. Each environment has different advantages and is suitable for different workflows. One strength of Python is that it is versatile and can be used in complementary ways, but it can be confusing for beginners so we will start with a brief survey of Python environments that are useful for scientific computing."
   ]
  },
  {
   "cell_type": "markdown",
   "metadata": {},
   "source": [
    "## Python interpreter"
   ]
  },
  {
   "cell_type": "markdown",
   "metadata": {},
   "source": [
    "The standard way to use the Python programming language is to use the Python interpreter to run code. The python interpreter is a program that reads and execute the python code in files passed to it as arguments. At the command prompt, the command <code>python</code> is used to invoke the Python interpreter.\n",
    "\n",
    "For example, to run a file `my-program.py` that contains python code from the command prompt, use:\n",
    "```python\n",
    "python my-program.py\n",
    "```\n",
    "We can also start the interpreter by simply typing `python` at the command line, and interactively type python code into the interpreter."
   ]
  },
  {
   "cell_type": "markdown",
   "metadata": {},
   "source": [
    "![](resources/cli.png)"
   ]
  },
  {
   "cell_type": "markdown",
   "metadata": {},
   "source": [
    "This is often how we want to work when developing scientific applications, or when doing small calculations. But the standard python interpreter is not very convenient for this kind of work, due to a number of limitations."
   ]
  },
  {
   "cell_type": "markdown",
   "metadata": {},
   "source": [
    "## IPython"
   ]
  },
  {
   "cell_type": "markdown",
   "metadata": {},
   "source": [
    "IPython is an interactive shell that addresses the limitation of the standard python interpreter, and it is work-horse for scientific use of python. It provides an interactive prompt to the python interpreter with a greatly improved user-friendliness."
   ]
  },
  {
   "cell_type": "markdown",
   "metadata": {},
   "source": [
    "![](resources/ipython.png)"
   ]
  },
  {
   "cell_type": "markdown",
   "metadata": {},
   "source": [
    "Some of the many useful features of IPython includes:\n",
    "- Command history, which can be browsed with the up and down on the keyboard.\n",
    "- Tab auto-completion.\n",
    "- In-line editing of code.\n",
    "- Object introspection, and automatic extract of documentation strings from python objects like classes and functions.\n",
    "- Good interaction with operating system shell.\n",
    "- Support for multiple parallel back-end process, that can run on computing clusters or cloud services like EC2."
   ]
  },
  {
   "cell_type": "markdown",
   "metadata": {},
   "source": [
    "## Jupyter Notebook"
   ]
  },
  {
   "cell_type": "markdown",
   "metadata": {},
   "source": [
    "**Jupyter Notebook** (https://www.jupyter.org) is an open-source web application that allows you to create and share documents that contain live code, equations, visualizations and narrative text.\n",
    "\n",
    "Uses include: data cleaning and transformation, numerical simulation, statistical modeling, data visualization, machine learning, and much more."
   ]
  },
  {
   "cell_type": "markdown",
   "metadata": {},
   "source": [
    "![](resources/jupyterpreview.png)"
   ]
  },
  {
   "cell_type": "markdown",
   "metadata": {},
   "source": [
    "## Installation"
   ]
  },
  {
   "cell_type": "markdown",
   "metadata": {},
   "source": [
    "## Conda"
   ]
  },
  {
   "cell_type": "markdown",
   "metadata": {},
   "source": [
    "The best way to set-up a scientific Python environment is to use cross-platform package manager (https://www.anaconda.com/).\n",
    "![](resources/anaconda.jpg)\n",
    "This should be sufficient to get a working environment on any plaform supported by `conda`."
   ]
  }
 ],
 "metadata": {
  "kernelspec": {
   "display_name": "Python 3.7.6 64-bit",
   "language": "python",
   "name": "python37664bitecc1985203ae4361a91ea05681fbc1a0"
  },
  "language_info": {
   "codemirror_mode": {
    "name": "ipython",
    "version": 3
   },
   "file_extension": ".py",
   "mimetype": "text/x-python",
   "name": "python",
   "nbconvert_exporter": "python",
   "pygments_lexer": "ipython3",
   "version": "3.7.6"
  }
 },
 "nbformat": 4,
 "nbformat_minor": 4
}